{
  "nbformat": 4,
  "nbformat_minor": 0,
  "metadata": {
    "colab": {
      "name": "pytorch_interpolation.ipynb",
      "provenance": [],
      "authorship_tag": "ABX9TyP5/u3mKfwOx8eh7Zp3zTzj",
      "include_colab_link": true
    },
    "kernelspec": {
      "name": "python3",
      "display_name": "Python 3"
    },
    "language_info": {
      "name": "python"
    }
  },
  "cells": [
    {
      "cell_type": "markdown",
      "metadata": {
        "id": "view-in-github",
        "colab_type": "text"
      },
      "source": [
        "<a href=\"https://colab.research.google.com/github/pen1064/Practice/blob/main/pytorch_interpolation.ipynb\" target=\"_parent\"><img src=\"https://colab.research.google.com/assets/colab-badge.svg\" alt=\"Open In Colab\"/></a>"
      ]
    },
    {
      "cell_type": "code",
      "execution_count": 85,
      "metadata": {
        "id": "2ZwUw5JMPovN"
      },
      "outputs": [],
      "source": [
        "import torch \n",
        "import math\n",
        "from matplotlib import pyplot as plt"
      ]
    },
    {
      "cell_type": "code",
      "source": [
        "device = torch.device('cpu')"
      ],
      "metadata": {
        "id": "mgJxbEAwvjuL"
      },
      "execution_count": 4,
      "outputs": []
    },
    {
      "cell_type": "markdown",
      "source": [
        "y_pred = a + b * x + c * x ** 2 + d * x ** 3"
      ],
      "metadata": {
        "id": "9Lk0rpW-wSFD"
      }
    },
    {
      "cell_type": "code",
      "source": [
        "def calculate_loss(y_pred, y):\n",
        "  return ((y_pred-y)**2).sum()"
      ],
      "metadata": {
        "id": "L00dYmS4wRi6"
      },
      "execution_count": 76,
      "outputs": []
    },
    {
      "cell_type": "code",
      "source": [
        "def forward_propagation(a, b, c, d, x):\n",
        "  y_pred = a + b*x + c*x**2 + d*x**3\n",
        "  return y_pred\n"
      ],
      "metadata": {
        "id": "6nbLWGzXxUp0"
      },
      "execution_count": 77,
      "outputs": []
    },
    {
      "cell_type": "code",
      "source": [
        "def backward_propagation(x, y, y_pred, a, b, c, d, lr):\n",
        "  dldy = 2*(y_pred-y)\n",
        "  dyda = 1\n",
        "  dydb = x\n",
        "  dydc = x**2\n",
        "  dydd = x**3\n",
        "\n",
        "  grad_a = (dldy*dyda).sum()\n",
        "  grad_b = (dldy*dydb).sum()\n",
        "  grad_c = (dldy*dydc).sum()\n",
        "  grad_d = (dldy*dydd).sum()\n",
        "\n",
        "  a -= lr*grad_a\n",
        "  b -= lr*grad_b\n",
        "  c -= lr*grad_c\n",
        "  d -= lr*grad_d\n",
        "  return a, b, c, d"
      ],
      "metadata": {
        "id": "16zmdIn9xXre"
      },
      "execution_count": 78,
      "outputs": []
    },
    {
      "cell_type": "code",
      "source": [
        "x = torch.linspace(-math.pi, math.pi, 2000, dtype=torch.float)\n",
        "y = torch.sin(x)\n",
        "a = torch.randn((), device=device, dtype=torch.float)\n",
        "b = torch.randn((), device=device, dtype=torch.float)\n",
        "c = torch.randn((), device=device, dtype=torch.float)\n",
        "d = torch.randn((), device=device, dtype=torch.float)\n",
        "lr = 1e-6\n",
        "loss = []\n",
        "for i in range(2000):\n",
        "  y_pred = forward_propagation(a, b, c, d, x)\n",
        "  loss.append(calculate_loss(y_pred, y))\n",
        "  a,b,c,d = backward_propagation(x, y, y_pred, a, b, c, d, lr)"
      ],
      "metadata": {
        "id": "TT6kzDcxzNtl"
      },
      "execution_count": 80,
      "outputs": []
    },
    {
      "cell_type": "code",
      "source": [
        "plt.plot(range(len(loss)), loss)\n",
        "plt.xlabel('Iteraiton')\n",
        "plt.ylabel('Loss')\n",
        "plt.show()"
      ],
      "metadata": {
        "colab": {
          "base_uri": "https://localhost:8080/",
          "height": 279
        },
        "id": "_yOwgf951yAd",
        "outputId": "251bbfb7-f920-4077-8eb5-3c0ee8307ce0"
      },
      "execution_count": 86,
      "outputs": [
        {
          "output_type": "display_data",
          "data": {
            "text/plain": [
              "<Figure size 432x288 with 1 Axes>"
            ],
            "image/png": "[encoded data removed]"
          },
          "metadata": {
            "needs_background": "light"
          }
        }
      ]
    },
    {
      "cell_type": "markdown",
      "source": [
        ""
      ],
      "metadata": {
        "id": "psYYQFYSvbXw"
      }
    }
  ]
}